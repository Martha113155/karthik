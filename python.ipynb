{
  "nbformat": 4,
  "nbformat_minor": 0,
  "metadata": {
    "colab": {
      "provenance": [],
      "authorship_tag": "ABX9TyNMn69Sctn26CnICNVwEb5E",
      "include_colab_link": true
    },
    "kernelspec": {
      "name": "python3",
      "display_name": "Python 3"
    },
    "language_info": {
      "name": "python"
    }
  },
  "cells": [
    {
      "cell_type": "markdown",
      "metadata": {
        "id": "view-in-github",
        "colab_type": "text"
      },
      "source": [
        "<a href=\"https://colab.research.google.com/github/Martha113155/karthik/blob/main/python.ipynb\" target=\"_parent\"><img src=\"https://colab.research.google.com/assets/colab-badge.svg\" alt=\"Open In Colab\"/></a>"
      ]
    },
    {
      "cell_type": "code",
      "execution_count": null,
      "metadata": {
        "id": "SuCxRe0b5ZHK"
      },
      "outputs": [],
      "source": [
        "a=5"
      ]
    },
    {
      "cell_type": "code",
      "source": [
        "print (a)"
      ],
      "metadata": {
        "colab": {
          "base_uri": "https://localhost:8080/"
        },
        "id": "4N6RySDG53z8",
        "outputId": "b2dd82c4-05ee-4031-8c1b-b555fabdfd2b"
      },
      "execution_count": null,
      "outputs": [
        {
          "output_type": "stream",
          "name": "stdout",
          "text": [
            "5\n"
          ]
        }
      ]
    },
    {
      "cell_type": "code",
      "source": [
        "print(a)"
      ],
      "metadata": {
        "id": "qwdP8RdG6AMF",
        "outputId": "a060cab0-671d-4d6f-ab63-ddfb0e2ac561",
        "colab": {
          "base_uri": "https://localhost:8080/"
        }
      },
      "execution_count": null,
      "outputs": [
        {
          "output_type": "stream",
          "name": "stdout",
          "text": [
            "(23, 24.0, (23+76j))\n"
          ]
        }
      ]
    },
    {
      "cell_type": "code",
      "source": [
        "a=5\n",
        "b=7\n",
        "c=a+b\n",
        "print(c)"
      ],
      "metadata": {
        "id": "s1tIlGNY6AmM",
        "colab": {
          "base_uri": "https://localhost:8080/"
        },
        "outputId": "5dbe55cf-1b55-4b06-ad3d-f7b86c6c0cca"
      },
      "execution_count": null,
      "outputs": [
        {
          "output_type": "stream",
          "name": "stdout",
          "text": [
            "12\n"
          ]
        }
      ]
    },
    {
      "cell_type": "code",
      "source": [
        "prime_number=[15,20,3,5,2]\n",
        "prime_number.sort()\n",
        "print(prime_number)"
      ],
      "metadata": {
        "colab": {
          "base_uri": "https://localhost:8080/"
        },
        "id": "CdgNt2fPApjT",
        "outputId": "26af86c2-5bca-421a-8d50-01c8dd87baca"
      },
      "execution_count": null,
      "outputs": [
        {
          "output_type": "stream",
          "name": "stdout",
          "text": [
            "[2, 3, 5, 15, 20]\n"
          ]
        }
      ]
    },
    {
      "cell_type": "code",
      "source": [
        "a = \"laptop\""
      ],
      "metadata": {
        "id": "LXljrZM0iuQP"
      },
      "execution_count": 1,
      "outputs": []
    },
    {
      "cell_type": "code",
      "source": [
        "type(a)"
      ],
      "metadata": {
        "colab": {
          "base_uri": "https://localhost:8080/"
        },
        "id": "1dAY1m6EOcGO",
        "outputId": "7507087f-9079-4b2e-ff4f-5ea2309463bb"
      },
      "execution_count": 2,
      "outputs": [
        {
          "output_type": "execute_result",
          "data": {
            "text/plain": [
              "str"
            ]
          },
          "metadata": {},
          "execution_count": 2
        }
      ]
    },
    {
      "cell_type": "code",
      "source": [
        "a = ''' this is enimey\n",
        "near by me\n",
        " beware'''"
      ],
      "metadata": {
        "id": "hbSPKXENOe1n"
      },
      "execution_count": 4,
      "outputs": []
    },
    {
      "cell_type": "code",
      "source": [
        "type(a)"
      ],
      "metadata": {
        "colab": {
          "base_uri": "https://localhost:8080/"
        },
        "id": "BLYrdYWLOsHS",
        "outputId": "e61f8421-7dbf-4b1f-d7bd-9bb709308ac3"
      },
      "execution_count": 5,
      "outputs": [
        {
          "output_type": "execute_result",
          "data": {
            "text/plain": [
              "str"
            ]
          },
          "metadata": {},
          "execution_count": 5
        }
      ]
    },
    {
      "cell_type": "code",
      "source": [
        "a = 25+45j"
      ],
      "metadata": {
        "id": "sDvvkKs2Otxr"
      },
      "execution_count": 6,
      "outputs": []
    },
    {
      "cell_type": "code",
      "source": [
        "type(a)"
      ],
      "metadata": {
        "colab": {
          "base_uri": "https://localhost:8080/"
        },
        "id": "wDtPKvYlPC8H",
        "outputId": "8d6b4d02-0120-4532-a1d6-a804cbd104bc"
      },
      "execution_count": 7,
      "outputs": [
        {
          "output_type": "execute_result",
          "data": {
            "text/plain": [
              "complex"
            ]
          },
          "metadata": {},
          "execution_count": 7
        }
      ]
    },
    {
      "cell_type": "code",
      "source": [
        "a = True"
      ],
      "metadata": {
        "id": "805hmhS1PENz"
      },
      "execution_count": 9,
      "outputs": []
    },
    {
      "cell_type": "code",
      "source": [
        "type(a)"
      ],
      "metadata": {
        "colab": {
          "base_uri": "https://localhost:8080/"
        },
        "id": "geUGcLZAPIy6",
        "outputId": "e5a12ba7-2755-4588-8340-8c166eb5959c"
      },
      "execution_count": 10,
      "outputs": [
        {
          "output_type": "execute_result",
          "data": {
            "text/plain": [
              "bool"
            ]
          },
          "metadata": {},
          "execution_count": 10
        }
      ]
    },
    {
      "cell_type": "code",
      "source": [],
      "metadata": {
        "id": "DMtkOsTAPN3m"
      },
      "execution_count": null,
      "outputs": []
    }
  ]
}